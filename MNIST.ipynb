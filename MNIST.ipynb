{
  "cells": [
    {
      "cell_type": "markdown",
      "metadata": {
        "id": "view-in-github",
        "colab_type": "text"
      },
      "source": [
        "<a href=\"https://colab.research.google.com/github/DuyHung-1254/MNIST/blob/master/MNIST.ipynb\" target=\"_parent\"><img src=\"https://colab.research.google.com/assets/colab-badge.svg\" alt=\"Open In Colab\"/></a>"
      ]
    },
    {
      "cell_type": "markdown",
      "source": [
        "# IMPORT thư viện cần thiết "
      ],
      "metadata": {
        "id": "PoIw3ceL-i5l"
      }
    },
    {
      "cell_type": "code",
      "source": [
        "import numpy as np\n",
        "import cv2\n",
        "from tensorflow.keras.datasets.mnist import load_data\n",
        "from sklearn.metrics import precision_score, recall_score, f1_score, accuracy_score\n",
        "from sklearn.metrics import classification_report \n",
        "import pandas as pd\n",
        "import matplotlib.pyplot as plt\n",
        "import seaborn as sns\n",
        "from tensorflow.keras.datasets import mnist\n",
        "from sklearn.model_selection import train_test_split\n",
        "from sklearn.metrics import confusion_matrix\n",
        "import keras\n",
        "import tensorflow \n",
        "from tensorflow.keras.models import Sequential\n",
        "from tensorflow.keras.layers import Conv2D, Lambda, MaxPooling2D # convolution layers\n",
        "from tensorflow.keras.layers import Dense, Dropout, Flatten, Input ,Reshape\n",
        "from keras.models import Sequential\n",
        "from keras.layers import Conv2D, Lambda, MaxPooling2D # convolution layers\n",
        "from keras.layers import Dense, Dropout, Flatten, Input ,Reshape\n",
        "from keras.preprocessing.image import ImageDataGenerator\n",
        "from keras.utils.np_utils import to_categorical\n",
        "\n"
      ],
      "metadata": {
        "id": "5QvMkcME-qi5"
      },
      "execution_count": null,
      "outputs": []
    },
    {
      "cell_type": "code",
      "source": [
        "from google.colab import drive\n",
        "drive.mount(\"/content/drive\")"
      ],
      "metadata": {
        "colab": {
          "base_uri": "https://localhost:8080/"
        },
        "id": "kLK_9YAtXVFD",
        "outputId": "ca58f9d5-7adc-478e-9513-0c9b07728c30"
      },
      "execution_count": 35,
      "outputs": [
        {
          "output_type": "stream",
          "name": "stdout",
          "text": [
            "Mounted at /content/drive\n"
          ]
        }
      ]
    },
    {
      "cell_type": "markdown",
      "source": [
        "# Chia tập Train và Test"
      ],
      "metadata": {
        "id": "iDiFACViACQt"
      }
    },
    {
      "cell_type": "code",
      "source": [
        "(x_train , y_train) , (x_test , y_test ) = load_data()\n",
        "print(x_train.shape)"
      ],
      "metadata": {
        "colab": {
          "base_uri": "https://localhost:8080/"
        },
        "id": "pwUvX2DA-tfx",
        "outputId": "7827036b-3db9-4355-d3b2-2250aae510ce"
      },
      "execution_count": null,
      "outputs": [
        {
          "output_type": "stream",
          "name": "stdout",
          "text": [
            "(60000, 28, 28)\n"
          ]
        }
      ]
    },
    {
      "cell_type": "code",
      "execution_count": null,
      "metadata": {
        "id": "UX2GcTt9n0M0",
        "colab": {
          "base_uri": "https://localhost:8080/",
          "height": 282
        },
        "outputId": "5f80337b-872c-4246-f60a-57915573f81e"
      },
      "outputs": [
        {
          "output_type": "execute_result",
          "data": {
            "text/plain": [
              "<matplotlib.image.AxesImage at 0x7f5c097a27c0>"
            ]
          },
          "metadata": {},
          "execution_count": 22
        },
        {
          "output_type": "display_data",
          "data": {
            "text/plain": [
              "<Figure size 432x288 with 1 Axes>"
            ],
            "image/png": "[encoded data removed]"
          },
          "metadata": {
            "needs_background": "light"
          }
        }
      ],
      "source": [
        "plt.imshow(x_train[1] , cmap = 'gray')"
      ]
    },
    {
      "cell_type": "markdown",
      "source": [
        "# Chuẩn hóa về dạng 0 - 1 "
      ],
      "metadata": {
        "id": "zzguf6zWAw_S"
      }
    },
    {
      "cell_type": "code",
      "execution_count": null,
      "metadata": {
        "id": "gM4hhw-0n1G1"
      },
      "outputs": [],
      "source": [
        "x_train_scaled = np.array(x_train)/255\n",
        "x_test_scaled = np.array(x_test)/255"
      ]
    },
    {
      "cell_type": "markdown",
      "source": [
        "# Onehot coding"
      ],
      "metadata": {
        "id": "CYKlqT08A_yc"
      }
    },
    {
      "cell_type": "code",
      "execution_count": null,
      "metadata": {
        "colab": {
          "base_uri": "https://localhost:8080/"
        },
        "id": "KDjdd60HoJ-P",
        "outputId": "ea827f22-87a0-42bd-cb1a-0723cd15eb19"
      },
      "outputs": [
        {
          "output_type": "stream",
          "name": "stdout",
          "text": [
            "[0. 0. 0. 0. 0. 1. 0. 0. 0. 0.]\n"
          ]
        }
      ],
      "source": [
        "# onthotcoding\n",
        "from sklearn.preprocessing import OneHotEncoder\n",
        "encoder = OneHotEncoder()\n",
        "encoder.fit(y_train.reshape(-1,1))\n",
        "y_train = encoder.transform(y_train.reshape(-1,1)).toarray()\n",
        "y_test = encoder.transform(y_test.reshape(-1,1)).toarray()\n",
        "\n",
        "print(y_train[0])"
      ]
    },
    {
      "cell_type": "markdown",
      "source": [
        "# Khởi tạo model"
      ],
      "metadata": {
        "id": "IxvNqL39BdPq"
      }
    },
    {
      "cell_type": "code",
      "execution_count": null,
      "metadata": {
        "id": "7Aah9d2Jozxh"
      },
      "outputs": [],
      "source": [
        "from tensorflow.keras.layers import Input , Dense \n",
        "from tensorflow.keras.models import Model\n",
        "# cnn\n",
        "inp = Input(shape = (28,28,1))\n",
        "\n",
        "cnn = Conv2D(filters = 5 , kernel_size = 4, activation = 'relu')(inp)\n",
        "pooling = MaxPooling2D(pool_size = (2,2))(cnn)\n",
        "drop = Dropout(0.2)(pooling)\n",
        "\n",
        "cnn = Conv2D(filters = 5 , kernel_size = 4 , activation = 'relu')(drop)\n",
        "pooling = MaxPooling2D(pool_size = (2,2))(cnn)\n",
        "\n",
        "drop = Dropout(0.2)(pooling) # giảm ovrerfitting\n",
        "\n",
        "#cnn = Conv2D(filters = 16 , kernel_size = 3 , activation = 'relu')(drop)\n",
        "#pooling = MaxPooling2D(pool_size = (2,2))(cnn)\n",
        "\n",
        "# sử lý ảnh xong mới duỗi \n",
        "f = Flatten()(drop)\n",
        "fc1 = Dense(units = 20 , activation = 'relu')(f)\n",
        "fc2 = Dense(units = 20 , activation = 'relu')(fc1)\n",
        "out = Dense(units = 10 , activation = 'softmax')(fc2)\n",
        "\n",
        "model = Model(inputs = inp , outputs = out)"
      ]
    },
    {
      "cell_type": "code",
      "source": [],
      "metadata": {
        "id": "l3CVyCbdDo0q"
      },
      "execution_count": null,
      "outputs": []
    },
    {
      "cell_type": "code",
      "execution_count": null,
      "metadata": {
        "colab": {
          "base_uri": "https://localhost:8080/"
        },
        "id": "zMJa8bz4puW8",
        "outputId": "a3688448-1795-4905-c148-459826bd116e"
      },
      "outputs": [
        {
          "output_type": "stream",
          "name": "stdout",
          "text": [
            "Model: \"model_1\"\n",
            "_________________________________________________________________\n",
            " Layer (type)                Output Shape              Param #   \n",
            "=================================================================\n",
            " input_2 (InputLayer)        [(None, 28, 28, 1)]       0         \n",
            "                                                                 \n",
            " conv2d_2 (Conv2D)           (None, 25, 25, 5)         85        \n",
            "                                                                 \n",
            " max_pooling2d_2 (MaxPooling  (None, 12, 12, 5)        0         \n",
            " 2D)                                                             \n",
            "                                                                 \n",
            " dropout_2 (Dropout)         (None, 12, 12, 5)         0         \n",
            "                                                                 \n",
            " conv2d_3 (Conv2D)           (None, 9, 9, 5)           405       \n",
            "                                                                 \n",
            " max_pooling2d_3 (MaxPooling  (None, 4, 4, 5)          0         \n",
            " 2D)                                                             \n",
            "                                                                 \n",
            " dropout_3 (Dropout)         (None, 4, 4, 5)           0         \n",
            "                                                                 \n",
            " flatten_1 (Flatten)         (None, 80)                0         \n",
            "                                                                 \n",
            " dense_3 (Dense)             (None, 20)                1620      \n",
            "                                                                 \n",
            " dense_4 (Dense)             (None, 20)                420       \n",
            "                                                                 \n",
            " dense_5 (Dense)             (None, 10)                210       \n",
            "                                                                 \n",
            "=================================================================\n",
            "Total params: 2,740\n",
            "Trainable params: 2,740\n",
            "Non-trainable params: 0\n",
            "_________________________________________________________________\n"
          ]
        }
      ],
      "source": [
        "model.summary()"
      ]
    },
    {
      "cell_type": "markdown",
      "source": [
        "# training"
      ],
      "metadata": {
        "id": "EaHWsGBlcjFj"
      }
    },
    {
      "cell_type": "code",
      "execution_count": null,
      "metadata": {
        "colab": {
          "base_uri": "https://localhost:8080/"
        },
        "id": "GuHuCKMFrSpR",
        "outputId": "c2c97ac9-df7f-437e-e4fd-91f9057603e4"
      },
      "outputs": [
        {
          "output_type": "stream",
          "name": "stdout",
          "text": [
            "Epoch 1/51\n",
            "118/118 [==============================] - 21s 169ms/step - loss: 0.1470 - accuracy: 0.9532 - val_loss: 0.0598 - val_accuracy: 0.9810\n",
            "Epoch 2/51\n",
            "118/118 [==============================] - 18s 155ms/step - loss: 0.1477 - accuracy: 0.9531 - val_loss: 0.0615 - val_accuracy: 0.9815\n",
            "Epoch 3/51\n",
            "118/118 [==============================] - 19s 165ms/step - loss: 0.1458 - accuracy: 0.9535 - val_loss: 0.0637 - val_accuracy: 0.9798\n",
            "Epoch 4/51\n",
            "118/118 [==============================] - 18s 154ms/step - loss: 0.1423 - accuracy: 0.9551 - val_loss: 0.0589 - val_accuracy: 0.9826\n",
            "Epoch 5/51\n",
            "118/118 [==============================] - 20s 166ms/step - loss: 0.1419 - accuracy: 0.9556 - val_loss: 0.0598 - val_accuracy: 0.9808\n",
            "Epoch 6/51\n",
            "118/118 [==============================] - 18s 155ms/step - loss: 0.1422 - accuracy: 0.9541 - val_loss: 0.0577 - val_accuracy: 0.9822\n",
            "Epoch 7/51\n",
            "118/118 [==============================] - 19s 160ms/step - loss: 0.1418 - accuracy: 0.9549 - val_loss: 0.0583 - val_accuracy: 0.9819\n",
            "Epoch 8/51\n",
            "118/118 [==============================] - 19s 160ms/step - loss: 0.1398 - accuracy: 0.9546 - val_loss: 0.0583 - val_accuracy: 0.9820\n",
            "Epoch 9/51\n",
            "118/118 [==============================] - 18s 155ms/step - loss: 0.1418 - accuracy: 0.9548 - val_loss: 0.0585 - val_accuracy: 0.9822\n",
            "Epoch 10/51\n",
            "118/118 [==============================] - 20s 166ms/step - loss: 0.1404 - accuracy: 0.9560 - val_loss: 0.0607 - val_accuracy: 0.9810\n",
            "Epoch 11/51\n",
            "118/118 [==============================] - 18s 155ms/step - loss: 0.1399 - accuracy: 0.9558 - val_loss: 0.0578 - val_accuracy: 0.9820\n",
            "Epoch 12/51\n",
            "118/118 [==============================] - 20s 166ms/step - loss: 0.1393 - accuracy: 0.9563 - val_loss: 0.0568 - val_accuracy: 0.9831\n",
            "Epoch 13/51\n",
            "118/118 [==============================] - 18s 155ms/step - loss: 0.1370 - accuracy: 0.9567 - val_loss: 0.0560 - val_accuracy: 0.9830\n",
            "Epoch 14/51\n",
            "118/118 [==============================] - 20s 167ms/step - loss: 0.1364 - accuracy: 0.9575 - val_loss: 0.0561 - val_accuracy: 0.9815\n",
            "Epoch 15/51\n",
            "118/118 [==============================] - 18s 155ms/step - loss: 0.1366 - accuracy: 0.9568 - val_loss: 0.0546 - val_accuracy: 0.9834\n",
            "Epoch 16/51\n",
            "118/118 [==============================] - 19s 162ms/step - loss: 0.1350 - accuracy: 0.9571 - val_loss: 0.0560 - val_accuracy: 0.9834\n",
            "Epoch 17/51\n",
            "118/118 [==============================] - 19s 158ms/step - loss: 0.1374 - accuracy: 0.9568 - val_loss: 0.0558 - val_accuracy: 0.9838\n",
            "Epoch 18/51\n",
            "118/118 [==============================] - 18s 155ms/step - loss: 0.1363 - accuracy: 0.9567 - val_loss: 0.0551 - val_accuracy: 0.9840\n",
            "Epoch 19/51\n",
            "118/118 [==============================] - 20s 167ms/step - loss: 0.1353 - accuracy: 0.9571 - val_loss: 0.0549 - val_accuracy: 0.9832\n",
            "Epoch 20/51\n",
            "118/118 [==============================] - 18s 155ms/step - loss: 0.1348 - accuracy: 0.9581 - val_loss: 0.0555 - val_accuracy: 0.9825\n",
            "Epoch 21/51\n",
            "118/118 [==============================] - 20s 166ms/step - loss: 0.1332 - accuracy: 0.9578 - val_loss: 0.0555 - val_accuracy: 0.9826\n",
            "Epoch 22/51\n",
            "118/118 [==============================] - 18s 155ms/step - loss: 0.1331 - accuracy: 0.9566 - val_loss: 0.0541 - val_accuracy: 0.9833\n",
            "Epoch 23/51\n",
            "118/118 [==============================] - 20s 167ms/step - loss: 0.1304 - accuracy: 0.9587 - val_loss: 0.0542 - val_accuracy: 0.9837\n",
            "Epoch 24/51\n",
            "118/118 [==============================] - 18s 155ms/step - loss: 0.1321 - accuracy: 0.9570 - val_loss: 0.0538 - val_accuracy: 0.9830\n",
            "Epoch 25/51\n",
            "118/118 [==============================] - 20s 166ms/step - loss: 0.1311 - accuracy: 0.9579 - val_loss: 0.0530 - val_accuracy: 0.9846\n",
            "Epoch 26/51\n",
            "118/118 [==============================] - 18s 155ms/step - loss: 0.1292 - accuracy: 0.9594 - val_loss: 0.0547 - val_accuracy: 0.9827\n",
            "Epoch 27/51\n",
            "118/118 [==============================] - 19s 158ms/step - loss: 0.1303 - accuracy: 0.9592 - val_loss: 0.0539 - val_accuracy: 0.9830\n",
            "Epoch 28/51\n",
            "118/118 [==============================] - 19s 163ms/step - loss: 0.1295 - accuracy: 0.9594 - val_loss: 0.0523 - val_accuracy: 0.9839\n",
            "Epoch 29/51\n",
            "118/118 [==============================] - 18s 155ms/step - loss: 0.1316 - accuracy: 0.9581 - val_loss: 0.0538 - val_accuracy: 0.9836\n",
            "Epoch 30/51\n",
            "118/118 [==============================] - 20s 167ms/step - loss: 0.1292 - accuracy: 0.9582 - val_loss: 0.0526 - val_accuracy: 0.9842\n",
            "Epoch 31/51\n",
            "118/118 [==============================] - 18s 154ms/step - loss: 0.1266 - accuracy: 0.9587 - val_loss: 0.0559 - val_accuracy: 0.9824\n",
            "Epoch 32/51\n",
            "118/118 [==============================] - 20s 166ms/step - loss: 0.1282 - accuracy: 0.9600 - val_loss: 0.0543 - val_accuracy: 0.9838\n",
            "Epoch 33/51\n",
            "118/118 [==============================] - 18s 156ms/step - loss: 0.1258 - accuracy: 0.9601 - val_loss: 0.0522 - val_accuracy: 0.9841\n",
            "Epoch 34/51\n",
            "118/118 [==============================] - 20s 168ms/step - loss: 0.1263 - accuracy: 0.9602 - val_loss: 0.0511 - val_accuracy: 0.9849\n",
            "Epoch 35/51\n",
            "118/118 [==============================] - 18s 156ms/step - loss: 0.1270 - accuracy: 0.9596 - val_loss: 0.0514 - val_accuracy: 0.9838\n",
            "Epoch 36/51\n",
            "118/118 [==============================] - 19s 164ms/step - loss: 0.1270 - accuracy: 0.9596 - val_loss: 0.0530 - val_accuracy: 0.9835\n",
            "Epoch 37/51\n",
            "118/118 [==============================] - 19s 158ms/step - loss: 0.1283 - accuracy: 0.9599 - val_loss: 0.0513 - val_accuracy: 0.9848\n",
            "Epoch 38/51\n",
            "118/118 [==============================] - 19s 158ms/step - loss: 0.1245 - accuracy: 0.9603 - val_loss: 0.0524 - val_accuracy: 0.9847\n",
            "Epoch 39/51\n",
            "118/118 [==============================] - 20s 165ms/step - loss: 0.1252 - accuracy: 0.9602 - val_loss: 0.0519 - val_accuracy: 0.9845\n",
            "Epoch 40/51\n",
            "118/118 [==============================] - 18s 157ms/step - loss: 0.1240 - accuracy: 0.9609 - val_loss: 0.0517 - val_accuracy: 0.9839\n",
            "Epoch 41/51\n",
            "118/118 [==============================] - 20s 168ms/step - loss: 0.1232 - accuracy: 0.9612 - val_loss: 0.0496 - val_accuracy: 0.9853\n",
            "Epoch 42/51\n",
            "118/118 [==============================] - 18s 156ms/step - loss: 0.1263 - accuracy: 0.9603 - val_loss: 0.0502 - val_accuracy: 0.9845\n",
            "Epoch 43/51\n",
            "118/118 [==============================] - 20s 168ms/step - loss: 0.1256 - accuracy: 0.9607 - val_loss: 0.0507 - val_accuracy: 0.9845\n",
            "Epoch 44/51\n",
            "118/118 [==============================] - 18s 156ms/step - loss: 0.1257 - accuracy: 0.9603 - val_loss: 0.0504 - val_accuracy: 0.9841\n",
            "Epoch 45/51\n",
            "118/118 [==============================] - 20s 167ms/step - loss: 0.1225 - accuracy: 0.9611 - val_loss: 0.0510 - val_accuracy: 0.9843\n",
            "Epoch 46/51\n",
            "118/118 [==============================] - 19s 157ms/step - loss: 0.1232 - accuracy: 0.9615 - val_loss: 0.0502 - val_accuracy: 0.9850\n",
            "Epoch 47/51\n",
            "118/118 [==============================] - 20s 166ms/step - loss: 0.1207 - accuracy: 0.9617 - val_loss: 0.0499 - val_accuracy: 0.9848\n",
            "Epoch 48/51\n",
            "118/118 [==============================] - 19s 157ms/step - loss: 0.1247 - accuracy: 0.9601 - val_loss: 0.0503 - val_accuracy: 0.9848\n",
            "Epoch 49/51\n",
            "118/118 [==============================] - 19s 163ms/step - loss: 0.1242 - accuracy: 0.9610 - val_loss: 0.0501 - val_accuracy: 0.9846\n",
            "Epoch 50/51\n",
            "118/118 [==============================] - 19s 162ms/step - loss: 0.1215 - accuracy: 0.9607 - val_loss: 0.0504 - val_accuracy: 0.9845\n",
            "Epoch 51/51\n",
            "118/118 [==============================] - 18s 155ms/step - loss: 0.1226 - accuracy: 0.9611 - val_loss: 0.0498 - val_accuracy: 0.9850\n"
          ]
        }
      ],
      "source": [
        "#optimizerl = tensorflow.keras.optimizers.Adam(learning_rate = 0.0001 , bate_1 = 0.99, beta_2 = 0.999, epsilon = 1e - 07)\n",
        "\n",
        "model.compile(optimizer = 'adam' , loss = 'categorical_crossentropy' ,metrics = ['accuracy'])\n",
        "# validation_data : kiểu cho tập train và tập test vào model đánh giá lại model lần nữa \n",
        "history = model.fit(x_train_scaled , y_train , batch_size =512 , epochs = 51 , validation_data = (x_test_scaled , y_test))"
      ]
    },
    {
      "cell_type": "markdown",
      "source": [
        "# chart accuracy"
      ],
      "metadata": {
        "id": "2IPrDrHPWhxF"
      }
    },
    {
      "cell_type": "code",
      "execution_count": null,
      "metadata": {
        "colab": {
          "base_uri": "https://localhost:8080/",
          "height": 312
        },
        "id": "ZeD2ABUZw8Xv",
        "outputId": "8a1e8e88-9172-4b7e-8664-69c0dbec639a"
      },
      "outputs": [
        {
          "output_type": "execute_result",
          "data": {
            "text/plain": [
              "<matplotlib.legend.Legend at 0x7f5c2e7227c0>"
            ]
          },
          "metadata": {},
          "execution_count": 33
        },
        {
          "output_type": "display_data",
          "data": {
            "text/plain": [
              "<Figure size 432x288 with 1 Axes>"
            ],
            "image/png": "[encoded data removed]"
          },
          "metadata": {
            "needs_background": "light"
          }
        }
      ],
      "source": [
        "from matplotlib import pyplot as plt\n",
        "plt.plot(history.history['accuracy'])\n",
        "plt.plot(history.history['val_accuracy'])\n",
        "plt.title('model accuracy')\n",
        "plt.ylabel(\"accurary\")\n",
        "plt.xlabel('epochs')\n",
        "plt.legend([\"train\" , \"test\"] )"
      ]
    },
    {
      "cell_type": "markdown",
      "source": [
        "# chart loss"
      ],
      "metadata": {
        "id": "1QnPb4nKW0BC"
      }
    },
    {
      "cell_type": "code",
      "execution_count": null,
      "metadata": {
        "colab": {
          "base_uri": "https://localhost:8080/",
          "height": 312
        },
        "id": "fSPDxl2Iw_B7",
        "outputId": "ea99302b-d422-4063-d5ec-48e680e36218"
      },
      "outputs": [
        {
          "output_type": "execute_result",
          "data": {
            "text/plain": [
              "<matplotlib.legend.Legend at 0x7fb72b7ee890>"
            ]
          },
          "metadata": {},
          "execution_count": 69
        },
        {
          "output_type": "display_data",
          "data": {
            "text/plain": [
              "<Figure size 432x288 with 1 Axes>"
            ],
            "image/png": "[encoded data removed]"
          },
          "metadata": {
            "needs_background": "light"
          }
        }
      ],
      "source": [
        "# loss\n",
        "plt.plot(history.history['loss'])\n",
        "plt.plot(history.history['val_loss'])\n",
        "plt.title(\"model loss\")\n",
        "plt.ylabel(\"loss\")\n",
        "plt.xlabel('epochs')\n",
        "plt.legend([\"train\" , \"validation\"] )"
      ]
    },
    {
      "cell_type": "markdown",
      "source": [
        "# test thêm số tự viết "
      ],
      "metadata": {
        "id": "y8fQ0-E6YEQL"
      }
    },
    {
      "cell_type": "code",
      "execution_count": 36,
      "metadata": {
        "id": "BAFy_i8Dyuiy"
      },
      "outputs": [],
      "source": [
        "# lưu model trên kia lại , như một pre-model\n",
        "model.save('/content/drive/MyDrive/Colab_Notebooks/ML_official /data/pre_model/mnist.h5')"
      ]
    },
    {
      "cell_type": "code",
      "source": [
        "from tensorflow.keras.models import load_model\n",
        "model = load_model('/content/drive/MyDrive/Colab_Notebooks/ML_official /data/pre_model/mnist.h5')"
      ],
      "metadata": {
        "id": "V8MEubYXe_QA"
      },
      "execution_count": 37,
      "outputs": []
    },
    {
      "cell_type": "code",
      "execution_count": 38,
      "metadata": {
        "colab": {
          "base_uri": "https://localhost:8080/",
          "height": 275
        },
        "id": "Sxwo27cXyx8K",
        "outputId": "82c30a4e-e01e-4617-a932-9cf60a4e5d56"
      },
      "outputs": [
        {
          "output_type": "stream",
          "name": "stdout",
          "text": [
            "(648, 1152, 3)\n"
          ]
        },
        {
          "output_type": "execute_result",
          "data": {
            "text/plain": [
              "<matplotlib.image.AxesImage at 0x7f5c2e59da30>"
            ]
          },
          "metadata": {},
          "execution_count": 38
        },
        {
          "output_type": "display_data",
          "data": {
            "text/plain": [
              "<Figure size 432x288 with 1 Axes>"
            ],
            "image/png": "[encoded data removed]"
          },
          "metadata": {
            "needs_background": "light"
          }
        }
      ],
      "source": [
        "import cv2\n",
        "img = cv2.imread('/content/drive/MyDrive/Colab_Notebooks/ML_official /data/pre_model/anh_so_1.png')\n",
        "print(img.shape)\\\n",
        "\n",
        "# có 3 kênh màu , 3 lớp BRG \n",
        "plt.imshow(img)\n"
      ]
    },
    {
      "cell_type": "markdown",
      "source": [
        "# crop ảnh"
      ],
      "metadata": {
        "id": "v11LkN3MZ5YC"
      }
    },
    {
      "cell_type": "code",
      "execution_count": 39,
      "metadata": {
        "colab": {
          "base_uri": "https://localhost:8080/",
          "height": 286
        },
        "id": "Dte5Jx9tzHGR",
        "outputId": "19c70459-9510-4e7b-dabd-33cbb6a92e95"
      },
      "outputs": [
        {
          "output_type": "stream",
          "name": "stdout",
          "text": [
            "(600, 600, 3)\n"
          ]
        },
        {
          "output_type": "display_data",
          "data": {
            "text/plain": [
              "<Figure size 432x288 with 1 Axes>"
            ],
            "image/png": "[encoded data removed]"
          },
          "metadata": {
            "needs_background": "light"
          }
        }
      ],
      "source": [
        "\n",
        "import numpy as np\n",
        "import cv2\n",
        "y=0\n",
        "x=200\n",
        "h=600\n",
        "w = 600\n",
        "crop = img[y:y+h, x:x+w]\n",
        "plt.imshow (crop)\n",
        "cv2.waitKey(0) \n",
        "\n",
        "print(crop.shape)"
      ]
    },
    {
      "cell_type": "markdown",
      "source": [
        "# resize"
      ],
      "metadata": {
        "id": "FjZ0A49BZ4lL"
      }
    },
    {
      "cell_type": "code",
      "execution_count": 40,
      "metadata": {
        "colab": {
          "base_uri": "https://localhost:8080/",
          "height": 282
        },
        "id": "HBqprd4LzJkE",
        "outputId": "ae200bdf-5ff8-437f-c5e6-fbcfcac31199"
      },
      "outputs": [
        {
          "output_type": "stream",
          "name": "stdout",
          "text": [
            "(28, 28)\n"
          ]
        },
        {
          "output_type": "display_data",
          "data": {
            "text/plain": [
              "<Figure size 432x288 with 1 Axes>"
            ],
            "image/png": "[encoded data removed]"
          },
          "metadata": {
            "needs_background": "light"
          }
        }
      ],
      "source": [
        "new_img = cv2.resize((crop),dsize = (28,28))\n",
        "# chỉ còn 1 kênh màu thôi - từ bgr -> gray\n",
        "new_img = cv2.cvtColor(new_img , cv2.COLOR_BGR2GRAY)\n",
        "plt.imshow(new_img , cmap = 'gray')\n",
        "\n",
        "print(new_img.shape)\n",
        "\n"
      ]
    },
    {
      "cell_type": "markdown",
      "source": [
        "# Chuẩn hóa về 0 1"
      ],
      "metadata": {
        "id": "kDSWMTPDaLkz"
      }
    },
    {
      "cell_type": "code",
      "execution_count": 41,
      "metadata": {
        "colab": {
          "base_uri": "https://localhost:8080/"
        },
        "id": "zBxqiUTQ2w6p",
        "outputId": "c6763ce9-9696-4807-f139-fa5db0c815cb"
      },
      "outputs": [
        {
          "output_type": "stream",
          "name": "stdout",
          "text": [
            "(1, 28, 28)\n"
          ]
        }
      ],
      "source": [
        "a = np.array([new_img /255.])\n",
        "print(a.shape)"
      ]
    },
    {
      "cell_type": "code",
      "execution_count": 45,
      "metadata": {
        "colab": {
          "base_uri": "https://localhost:8080/",
          "height": 317
        },
        "id": "DkfXxuM13FI7",
        "outputId": "605259ae-24c7-49d9-8712-5f510c227b28"
      },
      "outputs": [
        {
          "output_type": "stream",
          "name": "stdout",
          "text": [
            "1/1 [==============================] - 0s 22ms/step\n",
            "Dự đoán  1\n"
          ]
        },
        {
          "output_type": "execute_result",
          "data": {
            "text/plain": [
              "<matplotlib.image.AxesImage at 0x7f5c2e3df220>"
            ]
          },
          "metadata": {},
          "execution_count": 45
        },
        {
          "output_type": "display_data",
          "data": {
            "text/plain": [
              "<Figure size 432x288 with 1 Axes>"
            ],
            "image/png": "[encoded data removed]"
          },
          "metadata": {
            "needs_background": "light"
          }
        }
      ],
      "source": [
        "y_pred = model.predict(a)\n",
        "print(\"Dự đoán \" , np.argmax(y_pred))\n",
        "plt.imshow(new_img , cmap = 'BuPu_r')"
      ]
    }
  ],
  "metadata": {
    "colab": {
      "provenance": [],
      "authorship_tag": "ABX9TyOHg/ynJZCFKOyMVs26x2vu",
      "include_colab_link": true
    },
    "kernelspec": {
      "display_name": "Python 3",
      "name": "python3"
    },
    "language_info": {
      "name": "python"
    }
  },
  "nbformat": 4,
  "nbformat_minor": 0
}